{
 "cells": [
  {
   "cell_type": "markdown",
   "id": "1ed24ed8-6403-49e4-b565-fbcc35a65ba6",
   "metadata": {},
   "source": [
    "# Example of running the MCTS algorithm to generate peptides"
   ]
  },
  {
   "cell_type": "markdown",
   "id": "aa719d33-e803-4471-bc83-a2a90cbd0950",
   "metadata": {},
   "source": [
    "## Import packages"
   ]
  },
  {
   "cell_type": "code",
   "execution_count": 1,
   "id": "89e742bd-5a48-4313-88c4-00d8083edc1f",
   "metadata": {},
   "outputs": [],
   "source": [
    "import numpy as np\n",
    "import pandas as pd\n",
    "from tensorflow import keras\n",
    "import sys\n",
    "import timeit\n",
    "sys.path.append('../peptide_generators/')\n",
    "from mcts_camsol import Node, mcts\n",
    "# to generate peptides with the \"three tryptophan constraint\"\n",
    "# from mcts_tryptophan limits import Node, mcts\n",
    "# to generate peptides that preferentially bind to one plastic over another\n",
    "# from mcts_competing_design import Node, mcts"
   ]
  },
  {
   "cell_type": "markdown",
   "id": "dc64c9c7-3674-4c57-96b1-6099944f0582",
   "metadata": {},
   "source": [
    "## Define a sequence generation function"
   ]
  },
  {
   "cell_type": "code",
   "execution_count": 2,
   "id": "58d4d448-a40d-498f-8ee9-cb68b50c1971",
   "metadata": {},
   "outputs": [],
   "source": [
    "def generate_seqs(num_seqs, surrogate_model, num_iterations=2000, exploration_param=1.0, sf=1.0):\n",
    "    seqs, scores = [], []\n",
    "    for i in range(num_seqs):\n",
    "        root = Node([])\n",
    "        start = timeit.default_timer()\n",
    "        seq, score = mcts(root, surrogate_model, num_iterations, exploration_param, sf)\n",
    "        seqs.append(seq)\n",
    "        scores.append(score)\n",
    "        stop = timeit.default_timer()\n",
    "        print('Run', i+1, 'done...', 'Time:', stop-start)\n",
    "        print('Sequence:', seq, 'Score:', score)\n",
    "    return seqs, scores\n",
    "\n",
    "# This function needs slight modification to generate peptides with the \"three-tryptophan constraint\" \n",
    "# or to generate peptides that preferentially bind to one plastic over another"
   ]
  },
  {
   "cell_type": "markdown",
   "id": "6feb1db4-cda4-4bee-8153-48eb4dc2b31b",
   "metadata": {
    "tags": []
   },
   "source": [
    "## Load the trained score predictor"
   ]
  },
  {
   "cell_type": "code",
   "execution_count": 3,
   "id": "b82a717a-6eea-4301-a177-d0855b8777a2",
   "metadata": {},
   "outputs": [
    {
     "name": "stdout",
     "output_type": "stream",
     "text": [
      "WARNING:tensorflow:No training configuration found in save file, so the model was *not* compiled. Compile it manually.\n"
     ]
    }
   ],
   "source": [
    "# Here we load the trained PE model as an example\n",
    "# To generate peptides using the competing design strategy, both models for PE and PS need to be loaded\n",
    "surrogate_model = keras.models.load_model('../score_predictors/pe/trained_model/')"
   ]
  },
  {
   "cell_type": "markdown",
   "id": "510bd38a-823c-446f-92e9-b39da288884a",
   "metadata": {},
   "source": [
    "## Run the algorithm"
   ]
  },
  {
   "cell_type": "code",
   "execution_count": 4,
   "id": "cef39a8f-07c3-4506-a214-f1ef22103a59",
   "metadata": {},
   "outputs": [
    {
     "name": "stdout",
     "output_type": "stream",
     "text": [
      "Run 1 done... Time: 87.587777\n",
      "Sequence: [13, 3, 12, 16, 12, 12, 7, 5, 16, 9, 3, 12] Score: -51.66753788930777\n",
      "Run 2 done... Time: 80.00834510000001\n",
      "Sequence: [12, 16, 8, 16, 16, 13, 16, 16, 17, 6, 0, 3] Score: -53.5555723495745\n",
      "Run 3 done... Time: 79.14935940000004\n",
      "Sequence: [12, 16, 8, 16, 16, 9, 17, 6, 11, 17, 3, 16] Score: -48.497731394566124\n",
      "Run 4 done... Time: 81.4181653\n",
      "Sequence: [16, 3, 16, 7, 12, 5, 9, 16, 9, 9, 12, 3] Score: -51.55953598740664\n",
      "Run 5 done... Time: 80.92469890000001\n",
      "Sequence: [16, 16, 16, 8, 8, 12, 12, 16, 16, 12, 9, 12] Score: -53.35455507353723\n",
      "Run 6 done... Time: 79.94938299999995\n",
      "Sequence: [16, 7, 9, 16, 16, 13, 16, 17, 1, 8, 15, 5] Score: -51.749561359720424\n",
      "Run 7 done... Time: 79.79710470000009\n",
      "Sequence: [5, 16, 16, 16, 12, 9, 9, 3, 16, 16, 5, 5] Score: -54.67891520502555\n",
      "Run 8 done... Time: 80.1347151\n",
      "Sequence: [9, 5, 16, 16, 7, 8, 16, 16, 16, 12, 5, 3] Score: -54.46932668393645\n",
      "Run 9 done... Time: 78.65486169999997\n",
      "Sequence: [8, 16, 7, 7, 12, 9, 3, 6, 16, 9, 3, 17] Score: -51.117883144003564\n",
      "Run 10 done... Time: 79.75480169999992\n",
      "Sequence: [16, 3, 9, 16, 12, 9, 16, 16, 12, 12, 12, 11] Score: -52.958618599394036\n"
     ]
    }
   ],
   "source": [
    "# Generate 10 peptides with a scaling factor of 2.0\n",
    "# To generate peptides without any constraint, set sf = 0.0\n",
    "sf = 2.0\n",
    "seqs, scores = generate_seqs(num_seqs=10, surrogate_model=surrogate_model, num_iterations=2000, exploration_param=1.0, sf=sf)"
   ]
  },
  {
   "cell_type": "code",
   "execution_count": 5,
   "id": "405988b0-6ebc-44be-badd-af6db55fcff5",
   "metadata": {},
   "outputs": [],
   "source": [
    "amino_acid_alphabet = ['A', 'D', 'E', 'F', 'G', 'H', 'I', 'K', 'L', \n",
    "                       'M', 'N', 'Q', 'R', 'S', 'T', 'V', 'W', 'Y']\n",
    "amino_acid_dict = {i: aa for i, aa in enumerate(amino_acid_alphabet)}\n",
    "sequences = [\"\".join(amino_acid_dict[num] for num in row) for row in seqs]"
   ]
  },
  {
   "cell_type": "code",
   "execution_count": 6,
   "id": "072aa55e-1680-4862-8797-f0fb32734897",
   "metadata": {},
   "outputs": [
    {
     "data": {
      "text/html": [
       "<div>\n",
       "<style scoped>\n",
       "    .dataframe tbody tr th:only-of-type {\n",
       "        vertical-align: middle;\n",
       "    }\n",
       "\n",
       "    .dataframe tbody tr th {\n",
       "        vertical-align: top;\n",
       "    }\n",
       "\n",
       "    .dataframe thead th {\n",
       "        text-align: right;\n",
       "    }\n",
       "</style>\n",
       "<table border=\"1\" class=\"dataframe\">\n",
       "  <thead>\n",
       "    <tr style=\"text-align: right;\">\n",
       "      <th></th>\n",
       "      <th>Sequences</th>\n",
       "      <th>Scores</th>\n",
       "    </tr>\n",
       "  </thead>\n",
       "  <tbody>\n",
       "    <tr>\n",
       "      <th>0</th>\n",
       "      <td>SFRWRRKHWMFR</td>\n",
       "      <td>-51.667538</td>\n",
       "    </tr>\n",
       "    <tr>\n",
       "      <th>1</th>\n",
       "      <td>RWLWWSWWYIAF</td>\n",
       "      <td>-53.555572</td>\n",
       "    </tr>\n",
       "    <tr>\n",
       "      <th>2</th>\n",
       "      <td>RWLWWMYIQYFW</td>\n",
       "      <td>-48.497731</td>\n",
       "    </tr>\n",
       "    <tr>\n",
       "      <th>3</th>\n",
       "      <td>WFWKRHMWMMRF</td>\n",
       "      <td>-51.559536</td>\n",
       "    </tr>\n",
       "    <tr>\n",
       "      <th>4</th>\n",
       "      <td>WWWLLRRWWRMR</td>\n",
       "      <td>-53.354555</td>\n",
       "    </tr>\n",
       "    <tr>\n",
       "      <th>5</th>\n",
       "      <td>WKMWWSWYDLVH</td>\n",
       "      <td>-51.749561</td>\n",
       "    </tr>\n",
       "    <tr>\n",
       "      <th>6</th>\n",
       "      <td>HWWWRMMFWWHH</td>\n",
       "      <td>-54.678915</td>\n",
       "    </tr>\n",
       "    <tr>\n",
       "      <th>7</th>\n",
       "      <td>MHWWKLWWWRHF</td>\n",
       "      <td>-54.469327</td>\n",
       "    </tr>\n",
       "    <tr>\n",
       "      <th>8</th>\n",
       "      <td>LWKKRMFIWMFY</td>\n",
       "      <td>-51.117883</td>\n",
       "    </tr>\n",
       "    <tr>\n",
       "      <th>9</th>\n",
       "      <td>WFMWRMWWRRRQ</td>\n",
       "      <td>-52.958619</td>\n",
       "    </tr>\n",
       "  </tbody>\n",
       "</table>\n",
       "</div>"
      ],
      "text/plain": [
       "      Sequences     Scores\n",
       "0  SFRWRRKHWMFR -51.667538\n",
       "1  RWLWWSWWYIAF -53.555572\n",
       "2  RWLWWMYIQYFW -48.497731\n",
       "3  WFWKRHMWMMRF -51.559536\n",
       "4  WWWLLRRWWRMR -53.354555\n",
       "5  WKMWWSWYDLVH -51.749561\n",
       "6  HWWWRMMFWWHH -54.678915\n",
       "7  MHWWKLWWWRHF -54.469327\n",
       "8  LWKKRMFIWMFY -51.117883\n",
       "9  WFMWRMWWRRRQ -52.958619"
      ]
     },
     "execution_count": 6,
     "metadata": {},
     "output_type": "execute_result"
    }
   ],
   "source": [
    "df_seq = pd.Series(data=sequences, name='Sequences')\n",
    "df_score = pd.Series(data=scores, name='Scores')\n",
    "df = pd.concat([df_seq, df_score], axis=1)\n",
    "df"
   ]
  },
  {
   "cell_type": "code",
   "execution_count": null,
   "id": "baaef3e4-4a40-427b-b983-399520319753",
   "metadata": {},
   "outputs": [],
   "source": []
  }
 ],
 "metadata": {
  "kernelspec": {
   "display_name": "Python 3 (ipykernel)",
   "language": "python",
   "name": "python3"
  },
  "language_info": {
   "codemirror_mode": {
    "name": "ipython",
    "version": 3
   },
   "file_extension": ".py",
   "mimetype": "text/x-python",
   "name": "python",
   "nbconvert_exporter": "python",
   "pygments_lexer": "ipython3",
   "version": "3.8.12"
  }
 },
 "nbformat": 4,
 "nbformat_minor": 5
}
