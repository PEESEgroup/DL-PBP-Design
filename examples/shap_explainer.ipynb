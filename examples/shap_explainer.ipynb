{
 "cells": [
  {
   "cell_type": "markdown",
   "id": "b54e1d55-d8d0-4edd-bde2-e84958e6dfdc",
   "metadata": {},
   "source": [
    "# Example of performing SHAP analysis"
   ]
  },
  {
   "cell_type": "markdown",
   "id": "17187338-ff66-4b60-bffd-67792650067c",
   "metadata": {},
   "source": [
    "## Import packages"
   ]
  },
  {
   "cell_type": "code",
   "execution_count": 1,
   "id": "650367e6-4d6e-4e69-b90d-836bb99146b9",
   "metadata": {},
   "outputs": [],
   "source": [
    "import numpy as np\n",
    "import pandas as pd\n",
    "import shap\n",
    "from sklearn.preprocessing import LabelEncoder\n",
    "from sklearn.model_selection import train_test_split\n",
    "import tensorflow as tf\n",
    "from tensorflow import keras\n",
    "from tensorflow.keras.preprocessing.sequence import pad_sequences\n",
    "import time"
   ]
  },
  {
   "cell_type": "code",
   "execution_count": 2,
   "id": "d9b88942-d0f0-48c9-8ac9-0251cefd9bab",
   "metadata": {},
   "outputs": [
    {
     "name": "stdout",
     "output_type": "stream",
     "text": [
      "WARNING:tensorflow:From C:\\Users\\thtan\\anaconda3\\envs\\gee\\lib\\site-packages\\tensorflow\\python\\compat\\v2_compat.py:101: disable_resource_variables (from tensorflow.python.ops.variable_scope) is deprecated and will be removed in a future version.\n",
      "Instructions for updating:\n",
      "non-resource variables are not supported in the long term\n"
     ]
    }
   ],
   "source": [
    "tf.compat.v1.disable_v2_behavior()"
   ]
  },
  {
   "cell_type": "markdown",
   "id": "bc9c28e0-2cc6-43c4-bc63-d33ef29911f7",
   "metadata": {},
   "source": [
    "## Define a helper function to process the SHAP values from the explainer"
   ]
  },
  {
   "cell_type": "code",
   "execution_count": 3,
   "id": "89a8c1a4-6a64-4d49-8406-751653552d4d",
   "metadata": {},
   "outputs": [],
   "source": [
    "def process_shap(X, shap, rows=18, cols=12):\n",
    "    two_d_list = [[[] for j in range(cols)] for i in range(rows)]\n",
    "    for i in range(X.shape[0]):\n",
    "        seq = X[i]\n",
    "        for j in range(len(seq)):\n",
    "            two_d_list[seq[j]][j].append(shap[i][j])\n",
    "    return two_d_list"
   ]
  },
  {
   "cell_type": "markdown",
   "id": "290d8019-9e44-41cf-9e3b-e206eee6f0e9",
   "metadata": {},
   "source": [
    "## Load the trained score predictor"
   ]
  },
  {
   "cell_type": "code",
   "execution_count": 4,
   "id": "af51ecd1-ee2e-44f7-8e7e-baec32d4cafc",
   "metadata": {},
   "outputs": [
    {
     "name": "stdout",
     "output_type": "stream",
     "text": [
      "WARNING:tensorflow:From C:\\Users\\thtan\\anaconda3\\envs\\gee\\lib\\site-packages\\keras\\initializers\\initializers_v1.py:65: calling RandomUniform.__init__ (from tensorflow.python.ops.init_ops) with dtype is deprecated and will be removed in a future version.\n",
      "Instructions for updating:\n",
      "Call initializer instance with the dtype argument instead of passing it to the constructor\n",
      "WARNING:tensorflow:No training configuration found in save file, so the model was *not* compiled. Compile it manually.\n"
     ]
    }
   ],
   "source": [
    "model = keras.models.load_model('../score_predictors/pe/trained_model/')"
   ]
  },
  {
   "cell_type": "markdown",
   "id": "24f01112-b269-460a-b2ee-f4985f3fd8b4",
   "metadata": {},
   "source": [
    "## Prepare the background data and implement the explainer"
   ]
  },
  {
   "cell_type": "code",
   "execution_count": 5,
   "id": "74b25e47-9251-4906-9835-07caa48e0c05",
   "metadata": {},
   "outputs": [],
   "source": [
    "df = pd.read_csv('../data/sequence_score_data_pe_processed.csv')\n",
    "sequences = df['Short Sequence'].to_list()\n",
    "scores = df['NET_E'].to_list()\n",
    "\n",
    "amino_acid_alphabet = ['A', 'D', 'E', 'F', 'G', 'H', 'I', 'K', 'L', \n",
    "                       'M', 'N', 'Q', 'R', 'S', 'T', 'V', 'W', 'Y']\n",
    "\n",
    "encoder = LabelEncoder()\n",
    "encoder.fit(amino_acid_alphabet)\n",
    "\n",
    "encoded_sequences = [encoder.transform(list(seq)) for seq in sequences]\n",
    "X = pad_sequences(encoded_sequences)\n",
    "\n",
    "y = np.array(scores)\n",
    "\n",
    "X_train, X_test, y_train, y_test = train_test_split(X, y, test_size=0.2, random_state=42)\n",
    "X_val, X_test, y_val, y_test = train_test_split(X_test, y_test, test_size=0.5, random_state=42)"
   ]
  },
  {
   "cell_type": "code",
   "execution_count": 6,
   "id": "8b1510df-f35a-4ebf-a349-84094e484ae1",
   "metadata": {},
   "outputs": [
    {
     "name": "stderr",
     "output_type": "stream",
     "text": [
      "keras is no longer supported, please use tf.keras instead.\n",
      "Your TensorFlow version is newer than 2.4.0 and so graph support has been removed in eager mode and some static graphs may not be supported. See PR #1483 for discussion.\n"
     ]
    },
    {
     "name": "stdout",
     "output_type": "stream",
     "text": [
      "WARNING:tensorflow:From C:\\Users\\thtan\\anaconda3\\envs\\gee\\lib\\site-packages\\shap\\explainers\\tf_utils.py:28: The name tf.keras.backend.get_session is deprecated. Please use tf.compat.v1.keras.backend.get_session instead.\n",
      "\n"
     ]
    }
   ],
   "source": [
    "np.random.seed(42)\n",
    "rand_ind = np.random.choice(X_train.shape[0], 1000)\n",
    "explainer = shap.DeepExplainer(model, [X_train[rand_ind]])"
   ]
  },
  {
   "cell_type": "markdown",
   "id": "f1fa573b-0aa3-4cbc-bff5-9fb8d416f8a6",
   "metadata": {},
   "source": [
    "## Load the dataset to be analyzed"
   ]
  },
  {
   "cell_type": "code",
   "execution_count": 7,
   "id": "b909f7aa-be1a-4dbd-b524-6bed8588311d",
   "metadata": {},
   "outputs": [],
   "source": [
    "# A small dataset containing 500 peptide sequences and their predicted scores are used for demonstration purpose\n",
    "df_s = pd.read_csv('../data/sample_data.csv')"
   ]
  },
  {
   "cell_type": "code",
   "execution_count": 8,
   "id": "ac8e7fd0-3e1c-43a7-8221-849481b790cc",
   "metadata": {},
   "outputs": [],
   "source": [
    "sequences_s = df_s['Sequences'].to_list()\n",
    "scores_s = df_s['Scores'].to_list()\n",
    "\n",
    "encoded_sequences_s = [encoder.transform(list(seq)) for seq in sequences_s]\n",
    "X_s = pad_sequences(encoded_sequences_s)\n",
    "y_s = np.array(scores_s)"
   ]
  },
  {
   "cell_type": "markdown",
   "id": "8b81d356-ab2a-43f1-af01-70eb6bed2525",
   "metadata": {},
   "source": [
    "## Compute the SHAP values for the amino acids in the peptides"
   ]
  },
  {
   "cell_type": "code",
   "execution_count": 9,
   "id": "4c61da77-2f75-4a06-9398-7c4c02355708",
   "metadata": {},
   "outputs": [
    {
     "name": "stdout",
     "output_type": "stream",
     "text": [
      "Time elapsed:  75.10459327697754\n"
     ]
    }
   ],
   "source": [
    "start = time.time()\n",
    "shap_values_s = explainer.shap_values(X_s, check_additivity=False)\n",
    "print(\"Time elapsed: \", time.time()-start)"
   ]
  },
  {
   "cell_type": "code",
   "execution_count": 10,
   "id": "96c0ed8a-6e48-47ad-9176-6313daebc2ba",
   "metadata": {},
   "outputs": [
    {
     "name": "stdout",
     "output_type": "stream",
     "text": [
      "      Amino Acid Number  Position  SHAP Value  PepBD Score\n",
      "0                     0         0   -0.204441   -51.974070\n",
      "1                     0         0    0.351497   -53.508335\n",
      "2                     0         0    0.407673   -49.370213\n",
      "3                     0         0    0.118165   -53.585773\n",
      "4                     0         0    0.267974   -55.235180\n",
      "...                 ...       ...         ...          ...\n",
      "5995                 17        11   -0.486788   -47.682460\n",
      "5996                 17        11   -0.291190   -43.469960\n",
      "5997                 17        11   -0.809531   -48.178486\n",
      "5998                 17        11   -0.793417   -47.565662\n",
      "5999                 17        11   -0.273988   -48.618380\n",
      "\n",
      "[6000 rows x 4 columns]\n"
     ]
    }
   ],
   "source": [
    "y_s_2d  = np.repeat(y_s.reshape(-1, 1), 12, axis=1)\n",
    "two_d_list = process_shap(X_s, np.squeeze(np.asarray(shap_values_s)))\n",
    "two_d_list_score = process_shap(X_s, y_s_2d)\n",
    "\n",
    "rows, cols = len(two_d_list), len(two_d_list[0])\n",
    "data = []\n",
    "\n",
    "for i in range(rows):\n",
    "    for j in range(cols):\n",
    "        for val, score in zip(two_d_list[i][j], two_d_list_score[i][j]):\n",
    "            data.append([i, j, val, score])\n",
    "\n",
    "df_shap = pd.DataFrame(data, columns=['Amino Acid Number', 'Position', 'SHAP Value', 'PepBD Score'])\n",
    "print(df_shap)"
   ]
  },
  {
   "cell_type": "code",
   "execution_count": 11,
   "id": "a7608c6c-5a14-464e-8df5-5beb9e9cc958",
   "metadata": {},
   "outputs": [],
   "source": [
    "# df_shap.to_csv('./shap_test.csv', index=False)"
   ]
  }
 ],
 "metadata": {
  "kernelspec": {
   "display_name": "Python 3 (ipykernel)",
   "language": "python",
   "name": "python3"
  },
  "language_info": {
   "codemirror_mode": {
    "name": "ipython",
    "version": 3
   },
   "file_extension": ".py",
   "mimetype": "text/x-python",
   "name": "python",
   "nbconvert_exporter": "python",
   "pygments_lexer": "ipython3",
   "version": "3.8.12"
  }
 },
 "nbformat": 4,
 "nbformat_minor": 5
}
